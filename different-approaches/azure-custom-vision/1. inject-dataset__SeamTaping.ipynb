{
 "cells": [
  {
   "cell_type": "code",
   "execution_count": 1,
   "metadata": {},
   "outputs": [],
   "source": [
    "# Project name setup\n",
    "project_name = \"SeamTaping\""
   ]
  },
  {
   "cell_type": "markdown",
   "metadata": {},
   "source": [
    "Add paths to the project directory and the directory containing utils"
   ]
  },
  {
   "cell_type": "code",
   "execution_count": 2,
   "metadata": {},
   "outputs": [
    {
     "name": "stdout",
     "output_type": "stream",
     "text": [
      "['c:\\\\Users\\\\User\\\\.conda\\\\envs\\\\Azure-Custom-Vision-Practice\\\\python312.zip', 'c:\\\\Users\\\\User\\\\.conda\\\\envs\\\\Azure-Custom-Vision-Practice\\\\DLLs', 'c:\\\\Users\\\\User\\\\.conda\\\\envs\\\\Azure-Custom-Vision-Practice\\\\Lib', 'c:\\\\Users\\\\User\\\\.conda\\\\envs\\\\Azure-Custom-Vision-Practice', '', 'c:\\\\Users\\\\User\\\\.conda\\\\envs\\\\Azure-Custom-Vision-Practice\\\\Lib\\\\site-packages', 'c:\\\\Users\\\\User\\\\.conda\\\\envs\\\\Azure-Custom-Vision-Practice\\\\Lib\\\\site-packages\\\\win32', 'c:\\\\Users\\\\User\\\\.conda\\\\envs\\\\Azure-Custom-Vision-Practice\\\\Lib\\\\site-packages\\\\win32\\\\lib', 'c:\\\\Users\\\\User\\\\.conda\\\\envs\\\\Azure-Custom-Vision-Practice\\\\Lib\\\\site-packages\\\\Pythonwin', 'd:\\\\Work\\\\Crack-Detection', 'd:\\\\Work\\\\Crack-Detection\\\\utils']\n"
     ]
    }
   ],
   "source": [
    "import sys\n",
    "import os\n",
    "\n",
    "# Add the path to the project directory\n",
    "utils_path = os.path.abspath('../..')\n",
    "if utils_path not in sys.path:\n",
    "    sys.path.append(utils_path)\n",
    "# Add the path to the directory containing utils to sys.path\n",
    "utils_path = os.path.abspath('../../utils')\n",
    "if utils_path not in sys.path:\n",
    "    sys.path.append(utils_path)\n",
    "print(sys.path)"
   ]
  },
  {
   "cell_type": "markdown",
   "metadata": {},
   "source": [
    "### Data Loading\n",
    "\n",
    "Let's start by loading the dataset.\n",
    "\n"
   ]
  },
  {
   "cell_type": "code",
   "execution_count": 3,
   "metadata": {},
   "outputs": [],
   "source": [
    "import os\n",
    "import pandas as pd\n",
    "\n",
    "# Read the dataset\n",
    "data = pd.read_excel(f'../../dataset/{project_name}_All.xlsx')"
   ]
  },
  {
   "cell_type": "markdown",
   "metadata": {},
   "source": [
    "### Authenticate the client\n",
    "\n",
    "Instantiate a training and prediction client with your endpoint and keys. "
   ]
  },
  {
   "cell_type": "code",
   "execution_count": 4,
   "metadata": {},
   "outputs": [
    {
     "name": "stdout",
     "output_type": "stream",
     "text": [
      "90dad624b6664556accbcfd69e2e170d https://crackdetection.cognitiveservices.azure.com/\n"
     ]
    }
   ],
   "source": [
    "from azure.cognitiveservices.vision.customvision.training import CustomVisionTrainingClient\n",
    "from azure.cognitiveservices.vision.customvision.prediction import CustomVisionPredictionClient\n",
    "from msrest.authentication import ApiKeyCredentials\n",
    "from dotenv import load_dotenv\n",
    "\n",
    "# Load environment variables\n",
    "load_dotenv()\n",
    "print(os.getenv(\"TRAINING_KEY\"), os.getenv(\"TRAINING_ENDPOINT\"))\n",
    "\n",
    "# Authentication\n",
    "credentials = ApiKeyCredentials(in_headers={\"Training-key\": os.getenv(\"TRAINING_KEY\")})\n",
    "trainer = CustomVisionTrainingClient(endpoint=os.getenv(\"TRAINING_ENDPOINT\"), credentials=credentials)\n",
    "\n",
    "# Authentication for prediction\n",
    "prediction_credentials = ApiKeyCredentials(in_headers={\"Prediction-key\": os.getenv(\"PREDICTION_KEY\")})\n",
    "predictor = CustomVisionPredictionClient(endpoint=os.getenv(\"PREDICTION_ENDPOINT\"), credentials=prediction_credentials)\n"
   ]
  },
  {
   "cell_type": "markdown",
   "metadata": {},
   "source": [
    "### Create or get the project"
   ]
  },
  {
   "cell_type": "code",
   "execution_count": 5,
   "metadata": {},
   "outputs": [
    {
     "name": "stdout",
     "output_type": "stream",
     "text": [
      "Searching for project 'SeamTaping'...\n",
      "Project 'SeamTaping' found with ID: a4b82d6b-8bd1-45aa-9308-39d665767e81\n"
     ]
    }
   ],
   "source": [
    "# Find the object detection domain\n",
    "obj_detection_domain = next(domain for domain in trainer.get_domains() if domain.type == \"ObjectDetection\" and domain.name == \"General\")\n",
    "\n",
    "# Find project by name\n",
    "print(f\"Searching for project '{project_name}'...\")\n",
    "projects = trainer.get_projects()\n",
    "\n",
    "project_id = None\n",
    "for project in projects:\n",
    "    if project.name == project_name:\n",
    "        project_id = project.id\n",
    "        break\n",
    "\n",
    "if project_id:\n",
    "    print(f\"Project '{project_name}' found with ID: {project_id}\")\n",
    "else:\n",
    "    print(f\"No project found with the name '{project_name}'\")\n",
    "    # Create a new project\n",
    "    print (\"Creating project...\")\n",
    "    project = trainer.create_project(project_name, domain_id=obj_detection_domain.id)\n"
   ]
  },
  {
   "cell_type": "markdown",
   "metadata": {},
   "source": [
    "### Data Ingestion and Transformation\n",
    "\n",
    "Create a data pipeline to transform and ingest data according to Azure Custom Vision's requirements."
   ]
  },
  {
   "cell_type": "code",
   "execution_count": 9,
   "metadata": {},
   "outputs": [
    {
     "name": "stdout",
     "output_type": "stream",
     "text": [
      "Creating tag 'Damaged'\n"
     ]
    }
   ],
   "source": [
    "# Function to create or retrieve existing tags in Custom Vision\n",
    "def create_or_get_tags(trainer, project_id, labels):\n",
    "    tag_dict = {}\n",
    "\n",
    "    try:\n",
    "        existing_tags = trainer.get_tags(project_id)\n",
    "        existing_tag_names = {tag.name: tag for tag in existing_tags} if existing_tags else {}\n",
    "    except Exception as e:\n",
    "        print(f\"Failed to retrieve existing tags: {str(e)}\")\n",
    "        existing_tag_names = {}\n",
    "\n",
    "    for label in labels:\n",
    "        if label in existing_tag_names:\n",
    "            tag_dict[label] = existing_tag_names[label]\n",
    "            print(f\"Existing tag '{label}' (id: {tag_dict[label].id})'\")\n",
    "        else:\n",
    "            try:\n",
    "                print(f\"Creating tag '{label}'\")\n",
    "                tag = trainer.create_tag(project_id, label)\n",
    "                tag_dict[label] = tag\n",
    "                existing_tag_names[label] = tag  # Update existing tag names dictionary\n",
    "            except Exception as e:\n",
    "                # Handle the exception due to tag creation failure\n",
    "                print(f\"Failed to create tag '{label}': {str(e)}\")\n",
    "\n",
    "    return tag_dict\n",
    "\n",
    "# Assuming 'data' contains your labels from which you want to create tags\n",
    "labels = data['Label'].unique()\n",
    "# Create or get existing tags in your project\n",
    "tag_dict = create_or_get_tags(trainer, project.id, labels)"
   ]
  },
  {
   "cell_type": "code",
   "execution_count": 10,
   "metadata": {},
   "outputs": [
    {
     "name": "stderr",
     "output_type": "stream",
     "text": [
      "100%|██████████| 328/328 [07:50<00:00,  1.44s/it]\n"
     ]
    }
   ],
   "source": [
    "from azure.cognitiveservices.vision.customvision.training.models import Region, ImageUrlCreateEntry, ImageUrlCreateBatch\n",
    "from tqdm import tqdm\n",
    "import json\n",
    "from utils.transform_functions import polygon_to_bbox\n",
    "\n",
    "# Convert polygons to bounding boxes\n",
    "data['bbox'] = data['2D Image Points'].apply(json.loads).apply(polygon_to_bbox)\n",
    "\n",
    "def inject_dataset_to_custom_vision(data, trainer, project_id):\n",
    "\n",
    "    for index, row in tqdm(data.iterrows(), total=data.shape[0]):\n",
    "        img_width = 1000\n",
    "        img_height = 750\n",
    "        bbox = row['bbox']\n",
    "        label = row['Label']\n",
    "\n",
    "        regions = [Region(\n",
    "            tag_id=tag_dict[label].id,\n",
    "            left=bbox[\"left\"] / img_width,\n",
    "            top=bbox[\"top\"] / img_height,\n",
    "            width=bbox[\"width\"] / img_width,\n",
    "            height=bbox[\"height\"] / img_height\n",
    "        )]\n",
    "\n",
    "        image_entry = ImageUrlCreateEntry(\n",
    "            url=row['2D Image URL'],\n",
    "            regions=regions\n",
    "        )\n",
    "\n",
    "        upload_result = trainer.create_images_from_urls(\n",
    "            project_id, \n",
    "            ImageUrlCreateBatch(images=[image_entry])\n",
    "            )\n",
    "\n",
    "        # # If upload is not successful, print details about that image for debugging\n",
    "        # if not upload_result.is_batch_successful:\n",
    "        #     print(\"Image upload failed.\")\n",
    "        #     for image in upload_result.images:\n",
    "        #         print(f\"Image status: {image.status}, Source URL: {image.source_url}\")\n",
    "        #     break\n",
    "        # else:\n",
    "        #     print(f\"Uploaded image: {row['2D Image URL']}\")\n",
    "\n",
    "\n",
    "inject_dataset_to_custom_vision(data, trainer, project.id)\n"
   ]
  }
 ],
 "metadata": {
  "kernelspec": {
   "display_name": "Azure-Custom-Vision-Practice",
   "language": "python",
   "name": "python3"
  },
  "language_info": {
   "codemirror_mode": {
    "name": "ipython",
    "version": 3
   },
   "file_extension": ".py",
   "mimetype": "text/x-python",
   "name": "python",
   "nbconvert_exporter": "python",
   "pygments_lexer": "ipython3",
   "version": "3.12.4"
  }
 },
 "nbformat": 4,
 "nbformat_minor": 2
}
