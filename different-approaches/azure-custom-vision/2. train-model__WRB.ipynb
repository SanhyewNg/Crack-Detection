{
 "cells": [
  {
   "cell_type": "code",
   "execution_count": 1,
   "metadata": {},
   "outputs": [],
   "source": [
    "# Project name setup\n",
    "project_name = \"WRB\""
   ]
  },
  {
   "cell_type": "markdown",
   "metadata": {},
   "source": [
    "### Authenticate the client\n",
    "\n",
    "Instantiate a training and prediction client with your endpoint and keys. "
   ]
  },
  {
   "cell_type": "code",
   "execution_count": 2,
   "metadata": {},
   "outputs": [
    {
     "name": "stdout",
     "output_type": "stream",
     "text": [
      "90dad624b6664556accbcfd69e2e170d https://crackdetection.cognitiveservices.azure.com/\n"
     ]
    }
   ],
   "source": [
    "from azure.cognitiveservices.vision.customvision.training import CustomVisionTrainingClient\n",
    "from azure.cognitiveservices.vision.customvision.prediction import CustomVisionPredictionClient\n",
    "from msrest.authentication import ApiKeyCredentials\n",
    "from dotenv import load_dotenv\n",
    "import os\n",
    "\n",
    "# Load environment variables\n",
    "load_dotenv()\n",
    "print(os.getenv(\"TRAINING_KEY\"), os.getenv(\"TRAINING_ENDPOINT\"))\n",
    "\n",
    "# Authentication\n",
    "credentials = ApiKeyCredentials(in_headers={\"Training-key\": os.getenv(\"TRAINING_KEY\")})\n",
    "trainer = CustomVisionTrainingClient(endpoint=os.getenv(\"TRAINING_ENDPOINT\"), credentials=credentials)\n",
    "\n",
    "# Authentication for prediction\n",
    "prediction_credentials = ApiKeyCredentials(in_headers={\"Prediction-key\": os.getenv(\"PREDICTION_KEY\")})\n",
    "predictor = CustomVisionPredictionClient(endpoint=os.getenv(\"PREDICTION_ENDPOINT\"), credentials=prediction_credentials)\n"
   ]
  },
  {
   "cell_type": "markdown",
   "metadata": {},
   "source": [
    "### Creat or get the project"
   ]
  },
  {
   "cell_type": "code",
   "execution_count": 3,
   "metadata": {},
   "outputs": [
    {
     "name": "stdout",
     "output_type": "stream",
     "text": [
      "Searching for project 'WRB-Bad-Detection'...\n",
      "Project 'WRB-Bad-Detection' found with ID: 1ee0bb48-3b3f-419d-a575-e12c98f91578\n"
     ]
    }
   ],
   "source": [
    "# Find the object detection domain\n",
    "obj_detection_domain = next(domain for domain in trainer.get_domains() if domain.type == \"ObjectDetection\" and domain.name == \"General\")\n",
    "\n",
    "# Project name setup\n",
    "project_name = \"WRB-Bad-Detection\"\n",
    "\n",
    "# Find project by name\n",
    "print(f\"Searching for project '{project_name}'...\")\n",
    "projects = trainer.get_projects()\n",
    "\n",
    "project_id = None\n",
    "for project in projects:\n",
    "    if project.name == project_name:\n",
    "        project_id = project.id\n",
    "        break\n",
    "\n",
    "if project_id:\n",
    "    print(f\"Project '{project_name}' found with ID: {project_id}\")\n",
    "else:\n",
    "    print(f\"No project found with the name '{project_name}'\")\n",
    "    # Create a new project\n",
    "    print (\"Creating project...\")\n",
    "    project = trainer.create_project(project_name, domain_id=obj_detection_domain.id)\n"
   ]
  },
  {
   "cell_type": "markdown",
   "metadata": {},
   "source": [
    "### Train model\n",
    "\n",
    "Trigger and monitor training model."
   ]
  },
  {
   "cell_type": "code",
   "execution_count": 4,
   "metadata": {},
   "outputs": [
    {
     "name": "stdout",
     "output_type": "stream",
     "text": [
      "Training started for Iteration 6 at 2024-07-02 16:39:21\n"
     ]
    }
   ],
   "source": [
    "import time\n",
    "from datetime import datetime\n",
    "\n",
    "# Force training\n",
    "try:\n",
    "    iteration = trainer.train_project(\n",
    "        project_id, \n",
    "        training_type=\"Advanced\",\n",
    "        reserved_budget_in_hours=2,\n",
    "        force_train=True)\n",
    "\n",
    "    # Get current time in a human-readable format\n",
    "    current_time = datetime.now().strftime('%Y-%m-%d %H:%M:%S')\n",
    "\n",
    "    print(f\"Training started for {iteration.name} at {current_time}\")\n",
    "    \n",
    "    while (iteration.status != \"Completed\"):\n",
    "        iteration = trainer.get_iteration(project.id, iteration.id)\n",
    "        # print (\"Training status: \" + iteration.status)\n",
    "        time.sleep(30)\n",
    "        \n",
    "    # Get current time again for end time\n",
    "    current_time = datetime.now().strftime('%Y-%m-%d %H:%M:%S')\n",
    "    \n",
    "    print(f\"Training ended for {iteration.name} at {current_time}\")\n",
    "\n",
    "    iteration_id = iteration.id\n",
    "    iteration_name = iteration.name\n",
    "except Exception as e:\n",
    "    print(f\"Error occurred during training: {e}\")"
   ]
  },
  {
   "cell_type": "code",
   "execution_count": 4,
   "metadata": {},
   "outputs": [
    {
     "name": "stdout",
     "output_type": "stream",
     "text": [
      "Fetching iterations for project 'WRB-Bad-Detection'(id:'1ee0bb48-3b3f-419d-a575-e12c98f91578')...\n",
      "Iteration:\n",
      "Iteration 6, Created at 2024-07-01 21:29:35.696000+00:00, Last modified at 2024-07-02 20:29:24.304000+00:00\n"
     ]
    }
   ],
   "source": [
    "# Get iterations\n",
    "print(f\"Fetching iterations for project '{project_name}'(id:'{project_id}')...\")\n",
    "iterations = trainer.get_iterations(project_id)\n",
    "\n",
    "# List iteration IDs\n",
    "print(\"Iteration:\")\n",
    "for iteration in iterations:\n",
    "    # print(iteration)\n",
    "    print(f\"{iteration.name}, Created at {iteration.created}, Last modified at {iteration.last_modified}\")"
   ]
  },
  {
   "cell_type": "markdown",
   "metadata": {},
   "source": [
    "### Publish the current iteration\n",
    "\n",
    "An iteration is not available in the prediction endpoint until it is published. The following code makes the current iteration of the model available for querying."
   ]
  },
  {
   "cell_type": "code",
   "execution_count": 5,
   "metadata": {},
   "outputs": [
    {
     "name": "stdout",
     "output_type": "stream",
     "text": [
      "Done! Trained and published.\n"
     ]
    }
   ],
   "source": [
    "publish_iteration_name = f\"{project_name}-model_\" + iterations[0].name.replace(\" \", \"\")\n",
    "\n",
    "# The iteration is now trained. Publish it to the project endpoint\n",
    "trainer.publish_iteration(\n",
    "    project.id, \n",
    "    iterations[0].id, \n",
    "    publish_iteration_name, \n",
    "    os.getenv(\"PREDICTION_RESOURCE_ID\")\n",
    "    )\n",
    "print (\"Done! Trained and published.\")"
   ]
  }
 ],
 "metadata": {
  "kernelspec": {
   "display_name": "Azure-Custom-Vision-Practice",
   "language": "python",
   "name": "python3"
  },
  "language_info": {
   "codemirror_mode": {
    "name": "ipython",
    "version": 3
   },
   "file_extension": ".py",
   "mimetype": "text/x-python",
   "name": "python",
   "nbconvert_exporter": "python",
   "pygments_lexer": "ipython3",
   "version": "3.12.4"
  }
 },
 "nbformat": 4,
 "nbformat_minor": 2
}
